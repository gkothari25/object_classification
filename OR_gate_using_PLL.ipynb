{
  "nbformat": 4,
  "nbformat_minor": 0,
  "metadata": {
    "colab": {
      "name": "OR_gate_using_PLL",
      "version": "0.3.2",
      "provenance": [],
      "collapsed_sections": [],
      "include_colab_link": true
    },
    "kernelspec": {
      "name": "python3",
      "display_name": "Python 3"
    }
  },
  "cells": [
    {
      "cell_type": "markdown",
      "metadata": {
        "id": "view-in-github",
        "colab_type": "text"
      },
      "source": [
        "<a href=\"https://colab.research.google.com/github/gkothari25/object_classification/blob/master/OR_gate_using_PLL.ipynb\" target=\"_parent\"><img src=\"https://colab.research.google.com/assets/colab-badge.svg\" alt=\"Open In Colab\"/></a>"
      ]
    },
    {
      "cell_type": "code",
      "metadata": {
        "id": "FKYl26aiCH-O",
        "colab_type": "code",
        "outputId": "b73b55bf-e548-4796-807a-cd49e02d0288",
        "colab": {
          "base_uri": "https://localhost:8080/",
          "height": 121
        }
      },
      "source": [
        "import numpy as np\n",
        "\n",
        "i_vector = np.array([[0,0,1,1],[0,1,0,1]])\n",
        "wt_vector = np.zeros(i_vector.shape)\n",
        "out_vector = np.array([[0,1,1,1]])\n",
        "print(i_vector)\n",
        "print(wt_vector)\n",
        "print(out_vector)\n",
        "\n",
        "print(wt_vector[0])\n"
      ],
      "execution_count": 42,
      "outputs": [
        {
          "output_type": "stream",
          "text": [
            "[[0 0 1 1]\n",
            " [0 1 0 1]]\n",
            "[[0. 0. 0. 0.]\n",
            " [0. 0. 0. 0.]]\n",
            "[[0 1 1 1]]\n",
            "[0. 0. 0. 0.]\n"
          ],
          "name": "stdout"
        }
      ]
    },
    {
      "cell_type": "code",
      "metadata": {
        "id": "OzAzNUzUIpD7",
        "colab_type": "code",
        "colab": {}
      },
      "source": [
        ""
      ],
      "execution_count": 0,
      "outputs": []
    },
    {
      "cell_type": "code",
      "metadata": {
        "id": "ewvz-45qEK2Q",
        "colab_type": "code",
        "colab": {
          "base_uri": "https://localhost:8080/",
          "height": 191
        },
        "outputId": "98d03f20-063f-414d-ac66-148c5bdb2fa5"
      },
      "source": [
        "#y_pred = wt*x\n",
        "epoch = 10\n",
        "for k in range(epoch):\n",
        "   \n",
        "  for i,l in enumerate(zip(np.transpose(i_vector),np.transpose(wt_vector),np.transpose(out_vector))):\n",
        "    #pred_scaler = np.matmul(np.transpose(wt_vector),i_vector)\n",
        "    j = list(l)\n",
        "    pred_scaler = np.matmul(j[0],np.transpose(j[1]))\n",
        "    #print(pred_scaler)\n",
        "    if pred_scaler < 0: \n",
        "      if j[2] == 1:\n",
        "        j[1]= np.add(j[1],j[0])\n",
        "        #print(j[1])\n",
        "    \n",
        "    elif pred_scaler >= 0: \n",
        "        if j[2] == 0:\n",
        "          j[1] = np.subtract(j[1],j[0])\n",
        "          print(j[1])\n",
        "    \n",
        "\n",
        "\n"
      ],
      "execution_count": 57,
      "outputs": [
        {
          "output_type": "stream",
          "text": [
            "[0. 0.]\n",
            "[0. 0.]\n",
            "[0. 0.]\n",
            "[0. 0.]\n",
            "[0. 0.]\n",
            "[0. 0.]\n",
            "[0. 0.]\n",
            "[0. 0.]\n",
            "[0. 0.]\n",
            "[0. 0.]\n"
          ],
          "name": "stdout"
        }
      ]
    },
    {
      "cell_type": "code",
      "metadata": {
        "id": "TMULRyTsSc9h",
        "colab_type": "code",
        "colab": {
          "base_uri": "https://localhost:8080/",
          "height": 52
        },
        "outputId": "cb574c34-799f-4c2b-cbea-780dcc2f6f34"
      },
      "source": [
        "print(wt_vector)"
      ],
      "execution_count": 44,
      "outputs": [
        {
          "output_type": "stream",
          "text": [
            "[[0. 0. 0. 0.]\n",
            " [0. 0. 0. 0.]]\n"
          ],
          "name": "stdout"
        }
      ]
    },
    {
      "cell_type": "code",
      "metadata": {
        "id": "8goQI_T4SqQa",
        "colab_type": "code",
        "colab": {}
      },
      "source": [
        ""
      ],
      "execution_count": 0,
      "outputs": []
    }
  ]
}