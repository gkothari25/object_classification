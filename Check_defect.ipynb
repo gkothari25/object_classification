{
 "cells": [
  {
   "cell_type": "markdown",
   "metadata": {
    "colab_type": "text",
    "id": "view-in-github"
   },
   "source": [
    "<a href=\"https://colab.research.google.com/github/mohanrajmit/Transfer-Learning/blob/master/Transfer_Learning.ipynb\" target=\"_parent\"><img src=\"https://colab.research.google.com/assets/colab-badge.svg\" alt=\"Open In Colab\"/></a>"
   ]
  },
  {
   "cell_type": "code",
   "execution_count": 363,
   "metadata": {
    "colab": {
     "base_uri": "https://localhost:8080/",
     "height": 35
    },
    "colab_type": "code",
    "id": "pdxVC0hnBMo3",
    "outputId": "db666c7c-5ec1-4eec-d249-4becdc054ccb"
   },
   "outputs": [],
   "source": [
    "from pathlib import Path\n",
    "import numpy as np\n",
    "import joblib\n",
    "from keras.preprocessing import image\n",
    "from keras.applications import xception\n",
    "from keras.preprocessing.image import ImageDataGenerator\n"
   ]
  },
  {
   "cell_type": "code",
   "execution_count": 364,
   "metadata": {
    "colab": {
     "base_uri": "https://localhost:8080/",
     "height": 145
    },
    "colab_type": "code",
    "id": "YmEmDeXKHtyU",
    "outputId": "bd688a62-5c89-40b0-d659-8655da9c1509"
   },
   "outputs": [],
   "source": [
    "#git clone https://github.com/mohanrajmit/Transfer-Learning.git"
   ]
  },
  {
   "cell_type": "code",
   "execution_count": 365,
   "metadata": {
    "colab": {
     "base_uri": "https://localhost:8080/",
     "height": 35
    },
    "colab_type": "code",
    "id": "_9Es9qfMKV5l",
    "outputId": "663e23e2-a3cd-4c9c-87c9-37fa7529d7a3"
   },
   "outputs": [
    {
     "name": "stdout",
     "output_type": "stream",
     "text": [
      "\u001b[0m\u001b[01;34mmodel\u001b[0m/     \u001b[01;34mtest_dataset\u001b[0m/  \u001b[01;34mtrain_Healthy\u001b[0m/           \u001b[01;34mwewe\u001b[0m/\r\n",
      "README.md  \u001b[01;34mtrain\u001b[0m/         \u001b[01;34mtraining_dataset\u001b[0m/\r\n",
      "\u001b[01;34mtest\u001b[0m/      \u001b[01;34mtrain_Defect\u001b[0m/  Transfer_Learning.ipynb\r\n"
     ]
    }
   ],
   "source": [
    "ls"
   ]
  },
  {
   "cell_type": "code",
   "execution_count": 366,
   "metadata": {
    "scrolled": true
   },
   "outputs": [
    {
     "name": "stdout",
     "output_type": "stream",
     "text": [
      "/home/gaurav/data/inception/Transfer-Learning\n"
     ]
    }
   ],
   "source": [
    "import os \n",
    "a = os.getcwd()\n",
    "print(a)"
   ]
  },
  {
   "cell_type": "code",
   "execution_count": 367,
   "metadata": {
    "scrolled": true
   },
   "outputs": [
    {
     "data": {
      "text/plain": [
       "'\\npath_Defect_input  =\"/home/gaurav/data/inception/Transfer-Learning/train_Defect\"\\npath_Defect_output =\"/home/gaurav/data/inception/Transfer-Learning/training_dataset/Defect/\"\\npath_healthy_input =\"/home/gaurav/data/inception/Transfer-Learning/train_Healthy\"\\npath_healthy_output = \"/home/gaurav/data/inception/Transfer-Learning/training_dataset/Healthy/\"\\n\\n\\ntrain_datagen = ImageDataGenerator(\\n        rescale=1./255,\\n        rotation_range=20,\\n        shear_range=0.2,\\n        horizontal_flip=True,\\n        vertical_flip= True)\\ni = 1\\nfor batch1 in train_datagen.flow_from_directory(path_healthy_input, batch_size=10,save_to_dir=path_healthy_output,save_prefix=\\'parts\\', save_format=\\'jpg\\'):\\n    i += 1\\n    if i > 10:\\n      break  # otherwise the generator would loop indefinitely.\\n    \\nj = 1 \\nfor batchk in train_datagen.flow_from_directory(path_Defect_input, batch_size=10,save_to_dir=path_Defect_output,save_prefix=\\'parts\\', save_format=\\'jpg\\'):\\n    j += 1\\n    if j > 10:\\n      break  # otherwise the generator would loop indefinitely.\\n'"
      ]
     },
     "execution_count": 367,
     "metadata": {},
     "output_type": "execute_result"
    }
   ],
   "source": [
    "'''\n",
    "path_Defect_input  =\"/home/gaurav/data/inception/Transfer-Learning/train_Defect\"\n",
    "path_Defect_output =\"/home/gaurav/data/inception/Transfer-Learning/training_dataset/Defect/\"\n",
    "path_healthy_input =\"/home/gaurav/data/inception/Transfer-Learning/train_Healthy\"\n",
    "path_healthy_output = \"/home/gaurav/data/inception/Transfer-Learning/training_dataset/Healthy/\"\n",
    "\n",
    "\n",
    "train_datagen = ImageDataGenerator(\n",
    "        rescale=1./255,\n",
    "        rotation_range=20,\n",
    "        shear_range=0.2,\n",
    "        horizontal_flip=True,\n",
    "        vertical_flip= True)\n",
    "i = 1\n",
    "for batch1 in train_datagen.flow_from_directory(path_healthy_input, batch_size=10,save_to_dir=path_healthy_output,save_prefix='parts', save_format='jpg'):\n",
    "    i += 1\n",
    "    if i > 10:\n",
    "      break  # otherwise the generator would loop indefinitely.\n",
    "    \n",
    "j = 1 \n",
    "for batchk in train_datagen.flow_from_directory(path_Defect_input, batch_size=10,save_to_dir=path_Defect_output,save_prefix='parts', save_format='jpg'):\n",
    "    j += 1\n",
    "    if j > 10:\n",
    "      break  # otherwise the generator would loop indefinitely.\n",
    "'''"
   ]
  },
  {
   "cell_type": "code",
   "execution_count": 368,
   "metadata": {
    "colab": {},
    "colab_type": "code",
    "id": "pFzZzArPBQW6",
    "scrolled": false
   },
   "outputs": [
    {
     "name": "stdout",
     "output_type": "stream",
     "text": [
      "215\n"
     ]
    }
   ],
   "source": [
    "x_train = []\n",
    "# Load the training data set by looping over every image file\n",
    "for image_file in Path(\"/home/gaurav/data/inception/Transfer-Learning/training_dataset\").glob(\"**/*.jpg\"):\n",
    "    #print(image_file)\n",
    "    \n",
    "    \n",
    "    # Load the current image file\n",
    "    image_data = image.load_img(image_file, target_size=(73, 73))\n",
    "\n",
    "    # Convert the loaded image file to a numpy array\n",
    "    image_array = image.img_to_array(image_data)\n",
    "\n",
    "    # Add the current image to our list of training images\n",
    "    x_train.append(image_array)\n",
    "\n",
    "\n",
    "print(len(x_train))"
   ]
  },
  {
   "cell_type": "code",
   "execution_count": 369,
   "metadata": {},
   "outputs": [],
   "source": [
    "# Convert the list of separate images into a single 4D numpy array. This is what Keras expects.\n",
    "x_train = np.array(x_train)\n",
    "\n",
    "# Normalize image data to 0-to-1 range\n",
    "x_train = xception.preprocess_input(x_train)"
   ]
  },
  {
   "cell_type": "code",
   "execution_count": 370,
   "metadata": {},
   "outputs": [
    {
     "name": "stdout",
     "output_type": "stream",
     "text": [
      "215\n"
     ]
    }
   ],
   "source": [
    "# Add a label for this image. If it was a Defect, label it 0. If it was a Healthy, label it 1.\n",
    "y_train = []\n",
    "path = \"/home/gaurav/data/inception/Transfer-Learning/training_dataset/\"\n",
    "classes = [\"Defect\",\"Healthy\"]\n",
    "for i in classes:\n",
    "    if i == \"Defect\":\n",
    "        new_path = os.path.join(path,i)\n",
    "        y = os.listdir(new_path)\n",
    "        for i in y:\n",
    "            y_train.append(0)\n",
    "    else:\n",
    "        new_path = os.path.join(path,i)\n",
    "        y = os.listdir(new_path)\n",
    "        for i in y:\n",
    "            y_train.append(1)\n",
    "print(len(y_train))"
   ]
  },
  {
   "cell_type": "code",
   "execution_count": 371,
   "metadata": {},
   "outputs": [],
   "source": [
    "# Load the pre-trained neural network to use as a feature extractor\n",
    "feature_extractor = xception.Xception(weights='imagenet', include_top=False, input_shape=(73, 73, 3))\n",
    "x = feature_extractor\n",
    "#print(x)\n"
   ]
  },
  {
   "cell_type": "code",
   "execution_count": 372,
   "metadata": {},
   "outputs": [
    {
     "data": {
      "text/plain": [
       "['/home/gaurav/data/inception/Transfer-Learning/model/y_train.dat']"
      ]
     },
     "execution_count": 372,
     "metadata": {},
     "output_type": "execute_result"
    }
   ],
   "source": [
    "# Extract features for each image (all in one pass)\n",
    "features_x = feature_extractor.predict(x_train)\n",
    "\n",
    "# Save the array of extracted features to a file\n",
    "joblib.dump(features_x, \"/home/gaurav/data/inception/Transfer-Learning/model/x_train.dat\")\n",
    "\n",
    "# Save the matching array of expected values to a file\n",
    "joblib.dump(y_train, \"/home/gaurav/data/inception/Transfer-Learning/model/y_train.dat\")\n"
   ]
  },
  {
   "cell_type": "code",
   "execution_count": 373,
   "metadata": {
    "colab": {},
    "colab_type": "code",
    "id": "9sXXX9VOBmpv"
   },
   "outputs": [],
   "source": [
    "# Load data set of extracted features\n",
    "x_train = joblib.load(\"/home/gaurav/data/inception/Transfer-Learning/model/x_train.dat\")\n",
    "y_train = joblib.load(\"/home/gaurav/data/inception/Transfer-Learning/model/y_train.dat\")\n"
   ]
  },
  {
   "cell_type": "code",
   "execution_count": 374,
   "metadata": {
    "colab": {},
    "colab_type": "code",
    "id": "CvvFDEMpKwQt"
   },
   "outputs": [],
   "source": [
    "from keras.models import Sequential\n",
    "from keras.layers import Dense, Dropout, Flatten"
   ]
  },
  {
   "cell_type": "code",
   "execution_count": 375,
   "metadata": {
    "colab": {},
    "colab_type": "code",
    "id": "Nn81_QfVBvuj"
   },
   "outputs": [],
   "source": [
    "# Create a model and add layers\n",
    "model = Sequential()\n",
    "\n",
    "# Add layers to our model\n",
    "model.add(Flatten(input_shape=x_train.shape[1:]))\n",
    "model.add(Dense(128, activation='relu'))\n",
    "model.add(Dropout(0.5))\n",
    "model.add(Dense(1, activation='sigmoid'))\n",
    "\n",
    "# Compile the model\n",
    "model.compile(\n",
    "    loss='binary_crossentropy',\n",
    "    optimizer='adam',\n",
    "    metrics=['accuracy']\n",
    ")\n"
   ]
  },
  {
   "cell_type": "code",
   "execution_count": 376,
   "metadata": {},
   "outputs": [
    {
     "name": "stdout",
     "output_type": "stream",
     "text": [
      "215\n",
      "215\n"
     ]
    }
   ],
   "source": [
    "print(len(x_train))\n",
    "print(len(y_train))"
   ]
  },
  {
   "cell_type": "code",
   "execution_count": 383,
   "metadata": {
    "colab": {
     "base_uri": "https://localhost:8080/",
     "height": 399
    },
    "colab_type": "code",
    "id": "-Rxngy6-Bynu",
    "outputId": "5f74502d-8704-4b36-b882-5a998c7ad395"
   },
   "outputs": [
    {
     "name": "stdout",
     "output_type": "stream",
     "text": [
      "Train on 204 samples, validate on 11 samples\n",
      "Epoch 1/15\n",
      " - 7s - loss: 0.3298 - acc: 0.8627 - val_loss: 0.3198 - val_acc: 0.8182\n",
      "Epoch 2/15\n",
      " - 0s - loss: 0.3384 - acc: 0.8529 - val_loss: 0.3874 - val_acc: 0.8182\n",
      "Epoch 3/15\n",
      " - 0s - loss: 0.2668 - acc: 0.8922 - val_loss: 0.4955 - val_acc: 0.7273\n",
      "Epoch 4/15\n",
      " - 0s - loss: 0.3083 - acc: 0.8480 - val_loss: 0.4503 - val_acc: 0.7273\n",
      "Epoch 5/15\n",
      " - 0s - loss: 0.2594 - acc: 0.8529 - val_loss: 0.6690 - val_acc: 0.5455\n",
      "Epoch 6/15\n",
      " - 0s - loss: 0.2497 - acc: 0.8971 - val_loss: 0.4925 - val_acc: 0.7273\n",
      "Epoch 7/15\n",
      " - 0s - loss: 0.1977 - acc: 0.9118 - val_loss: 0.4600 - val_acc: 0.7273\n",
      "Epoch 8/15\n",
      " - 0s - loss: 0.1801 - acc: 0.9314 - val_loss: 0.6495 - val_acc: 0.7273\n",
      "Epoch 9/15\n",
      " - 0s - loss: 0.1400 - acc: 0.9657 - val_loss: 0.4593 - val_acc: 0.7273\n",
      "Epoch 10/15\n",
      " - 0s - loss: 0.1729 - acc: 0.9314 - val_loss: 0.5608 - val_acc: 0.7273\n",
      "Epoch 11/15\n",
      " - 0s - loss: 0.1682 - acc: 0.9412 - val_loss: 0.4306 - val_acc: 0.7273\n",
      "Epoch 12/15\n",
      " - 0s - loss: 0.1288 - acc: 0.9461 - val_loss: 0.4329 - val_acc: 0.7273\n",
      "Epoch 13/15\n",
      " - 0s - loss: 0.1269 - acc: 0.9559 - val_loss: 0.5094 - val_acc: 0.7273\n",
      "Epoch 14/15\n",
      " - 0s - loss: 0.1155 - acc: 0.9804 - val_loss: 0.4198 - val_acc: 0.7273\n",
      "Epoch 15/15\n",
      " - 0s - loss: 0.1197 - acc: 0.9657 - val_loss: 0.6629 - val_acc: 0.6364\n"
     ]
    }
   ],
   "source": [
    "# Train the model\n",
    "model.fit(\n",
    "    x_train,\n",
    "    y_train,\n",
    "    validation_split=0.05,\n",
    "    epochs=10,\n",
    "    shuffle=True,\n",
    "    verbose=2\n",
    ")\n",
    "\n",
    "# Save the trained model to a file so we can use it to make predictions later\n",
    "model.save(\"/home/gaurav/data/inception/Transfer-Learning/model/Defect_healthy_classifier_model.h5\")"
   ]
  },
  {
   "cell_type": "code",
   "execution_count": 384,
   "metadata": {
    "colab": {},
    "colab_type": "code",
    "id": "UZLgCYOnB1k-"
   },
   "outputs": [],
   "source": [
    "from keras.models import load_model\n",
    "from sklearn.metrics import confusion_matrix, classification_report"
   ]
  },
  {
   "cell_type": "code",
   "execution_count": 385,
   "metadata": {},
   "outputs": [],
   "source": [
    "#Add a label for this image. If it was a Defect, label it 0. If it was a Healthy, label it 1.\n",
    "y_test = []\n",
    "path = \"/home/gaurav/data/inception/Transfer-Learning/test_dataset\"\n",
    "classes = [\"Defect\",\"Healthy\"]\n",
    "for i in classes:\n",
    "    if i == \"Defect\":\n",
    "        new_path = os.path.join(path,i)\n",
    "        y = os.listdir(new_path)\n",
    "        for i in y:\n",
    "            y_test.append(0)\n",
    "    else:\n",
    "        new_path = os.path.join(path,i)\n",
    "        y = os.listdir(new_path)\n",
    "        for i in y:\n",
    "            y_test.append(1)\n"
   ]
  },
  {
   "cell_type": "code",
   "execution_count": 386,
   "metadata": {
    "colab": {},
    "colab_type": "code",
    "id": "yUqfBf9ECFBU"
   },
   "outputs": [
    {
     "name": "stdout",
     "output_type": "stream",
     "text": [
      "(28, 73, 73, 3)\n"
     ]
    }
   ],
   "source": [
    "# Empty lists to hold the images and labels for each each image\n",
    "x_test = []\n",
    "\n",
    "# Load the test data set by looping over every image file\n",
    "for image_file in Path(\"/home/gaurav/data/inception/Transfer-Learning/test_dataset\").glob(\"**/*.jpg\"):\n",
    "\n",
    "    # Load the current image file\n",
    "    image_data = image.load_img(image_file, target_size=(73, 73))\n",
    "\n",
    "    # Convert the loaded image file to a numpy array\n",
    "    image_array = image.img_to_array(image_data)\n",
    "\n",
    "    # Add the current image to our list of test images\n",
    "    x_test.append(image_array)\n",
    "    \n",
    "# Convert the list of test images to a numpy array\n",
    "x_test = np.array(x_test)\n",
    "\n",
    "# Normalize test data set to 0-to-1 range\n",
    "x_test = xception.preprocess_input(x_test)\n",
    "\n",
    "print(x_test.shape)"
   ]
  },
  {
   "cell_type": "code",
   "execution_count": 387,
   "metadata": {
    "colab": {
     "base_uri": "https://localhost:8080/",
     "height": 254
    },
    "colab_type": "code",
    "id": "mPYbXZBMCSGn",
    "outputId": "8e9bde39-3d70-43c2-b3e6-4113aa1cf57e"
   },
   "outputs": [
    {
     "name": "stdout",
     "output_type": "stream",
     "text": [
      "(28, 3, 3, 2048)\n"
     ]
    }
   ],
   "source": [
    "# Load our trained classifier model\n",
    "model = load_model(\"/home/gaurav/data/inception/Transfer-Learning/model/Defect_healthy_classifier_model.h5\")\n",
    "# Extract features for each image (all in one pass)\n",
    "features_x = feature_extractor.predict(x_test)\n",
    "\n",
    "print(features_x.shape)\n"
   ]
  },
  {
   "cell_type": "code",
   "execution_count": 382,
   "metadata": {
    "scrolled": true
   },
   "outputs": [
    {
     "name": "stdout",
     "output_type": "stream",
     "text": [
      "True negative 9\n",
      "False positive 5\n",
      "False negative 2\n",
      "True Positive 12\n",
      "Accuracy score percent is : 0.75\n"
     ]
    }
   ],
   "source": [
    "from sklearn.metrics import accuracy_score\n",
    "\n",
    "\n",
    "# Given the extracted features, make a final prediction using our own model\n",
    "predictions = model.predict(features_x)\n",
    "#print(predictions)\n",
    "\n",
    "# If the model is more than 50% sure the object is a Defect, call it a Defect.\n",
    "# Otherwise, call it \"Healthy\".\n",
    "predictions = predictions > 0.5\n",
    "\n",
    "# Calculate how many mis-classifications the model makes\n",
    "tn, fp, fn, tp = confusion_matrix(y_test, predictions,labels=[0,1]).ravel()\n",
    "print(\"True negative\",tn)\n",
    "print(\"False positive\",fp)\n",
    "print(\"False negative\",fn)\n",
    "print(\"True Positive\",tp)\n",
    "\n",
    "score = accuracy_score(y_test, predictions)\n",
    "print(\"Accuracy score percent is :\",score)\n",
    "\n",
    "\n"
   ]
  },
  {
   "cell_type": "code",
   "execution_count": null,
   "metadata": {},
   "outputs": [],
   "source": []
  }
 ],
 "metadata": {
  "accelerator": "GPU",
  "colab": {
   "include_colab_link": true,
   "name": "Untitled1.ipynb",
   "provenance": [],
   "version": "0.3.2"
  },
  "kernelspec": {
   "display_name": "Python 3",
   "language": "python",
   "name": "python3"
  },
  "language_info": {
   "codemirror_mode": {
    "name": "ipython",
    "version": 3
   },
   "file_extension": ".py",
   "mimetype": "text/x-python",
   "name": "python",
   "nbconvert_exporter": "python",
   "pygments_lexer": "ipython3",
   "version": "3.5.2"
  }
 },
 "nbformat": 4,
 "nbformat_minor": 1
}
