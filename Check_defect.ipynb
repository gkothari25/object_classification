{
 "cells": [
  {
   "cell_type": "markdown",
   "metadata": {
    "colab_type": "text",
    "id": "view-in-github"
   },
   "source": [
    "<a href=\"https://colab.research.google.com/github/mohanrajmit/Transfer-Learning/blob/master/Transfer_Learning.ipynb\" target=\"_parent\"><img src=\"https://colab.research.google.com/assets/colab-badge.svg\" alt=\"Open In Colab\"/></a>"
   ]
  },
  {
   "cell_type": "code",
   "execution_count": 30,
   "metadata": {
    "colab": {
     "base_uri": "https://localhost:8080/",
     "height": 35
    },
    "colab_type": "code",
    "id": "pdxVC0hnBMo3",
    "outputId": "db666c7c-5ec1-4eec-d249-4becdc054ccb"
   },
   "outputs": [],
   "source": [
    "from pathlib import Path\n",
    "import numpy as np\n",
    "import joblib\n",
    "from keras.preprocessing import image\n",
    "from keras.applications import xception\n",
    "from keras.preprocessing.image import ImageDataGenerator\n",
    "import os ,sys\n"
   ]
  },
  {
   "cell_type": "code",
   "execution_count": 31,
   "metadata": {
    "colab": {
     "base_uri": "https://localhost:8080/",
     "height": 145
    },
    "colab_type": "code",
    "id": "YmEmDeXKHtyU",
    "outputId": "bd688a62-5c89-40b0-d659-8655da9c1509"
   },
   "outputs": [],
   "source": [
    "#git clone https://github.com/gkothari25/Check_defect.git"
   ]
  },
  {
   "cell_type": "code",
   "execution_count": 32,
   "metadata": {
    "colab": {
     "base_uri": "https://localhost:8080/",
     "height": 35
    },
    "colab_type": "code",
    "id": "_9Es9qfMKV5l",
    "outputId": "663e23e2-a3cd-4c9c-87c9-37fa7529d7a3"
   },
   "outputs": [
    {
     "name": "stdout",
     "output_type": "stream",
     "text": [
      "Check_defect.ipynb  README.md  \u001b[0m\u001b[01;34mtest_dataset\u001b[0m/  \u001b[01;34mtrain_Defect\u001b[0m/   \u001b[01;34mtraining_dataset\u001b[0m/\r\n",
      "\u001b[01;34mmodel\u001b[0m/              \u001b[01;34mtest\u001b[0m/      \u001b[01;34mtrain\u001b[0m/         \u001b[01;34mtrain_Healthy\u001b[0m/  \u001b[01;34mwewe\u001b[0m/\r\n"
     ]
    }
   ],
   "source": [
    "ls"
   ]
  },
  {
   "cell_type": "code",
   "execution_count": 33,
   "metadata": {
    "colab": {},
    "colab_type": "code",
    "id": "pFzZzArPBQW6",
    "scrolled": false
   },
   "outputs": [
    {
     "name": "stdout",
     "output_type": "stream",
     "text": [
      "215\n"
     ]
    }
   ],
   "source": [
    "x_train = []\n",
    "# Load the training data set by looping over every image file\n",
    "for image_file in Path(\"training_dataset\").glob(\"**/*.jpg\"):\n",
    "    #print(image_file)\n",
    "    \n",
    "    \n",
    "    # Load the current image file\n",
    "    image_data = image.load_img(image_file, target_size=(73, 73))\n",
    "\n",
    "    # Convert the loaded image file to a numpy array\n",
    "    image_array = image.img_to_array(image_data)\n",
    "\n",
    "    # Add the current image to our list of training images\n",
    "    x_train.append(image_array)\n",
    "\n",
    "\n",
    "print(len(x_train))"
   ]
  },
  {
   "cell_type": "code",
   "execution_count": 34,
   "metadata": {},
   "outputs": [],
   "source": [
    "# Convert the list of separate images into a single 4D numpy array. This is what Keras expects.\n",
    "x_train = np.array(x_train)\n",
    "\n",
    "# Normalize image data to 0-to-1 range\n",
    "x_train = xception.preprocess_input(x_train)"
   ]
  },
  {
   "cell_type": "code",
   "execution_count": 35,
   "metadata": {},
   "outputs": [
    {
     "name": "stdout",
     "output_type": "stream",
     "text": [
      "215\n"
     ]
    }
   ],
   "source": [
    "# Add a label for this image. If it was a Defect, label it 0. If it was a Healthy, label it 1.\n",
    "y_train = []\n",
    "path = \"training_dataset/\"\n",
    "classes = [\"Defect\",\"Healthy\"]\n",
    "for i in classes:\n",
    "    if i == \"Defect\":\n",
    "        new_path = os.path.join(path,i)\n",
    "        y = os.listdir(new_path)\n",
    "        for i in y:\n",
    "            y_train.append(0)\n",
    "    else:\n",
    "        new_path = os.path.join(path,i)\n",
    "        y = os.listdir(new_path)\n",
    "        for i in y:\n",
    "            y_train.append(1)\n",
    "print(len(y_train))"
   ]
  },
  {
   "cell_type": "code",
   "execution_count": 36,
   "metadata": {},
   "outputs": [],
   "source": [
    "# Load the pre-trained neural network to use as a feature extractor\n",
    "feature_extractor = xception.Xception(weights='imagenet', include_top=False, input_shape=(73, 73, 3))\n",
    "x = feature_extractor\n",
    "#print(x)\n"
   ]
  },
  {
   "cell_type": "code",
   "execution_count": 37,
   "metadata": {},
   "outputs": [
    {
     "data": {
      "text/plain": [
       "['model/y_train.dat']"
      ]
     },
     "execution_count": 37,
     "metadata": {},
     "output_type": "execute_result"
    }
   ],
   "source": [
    "# Extract features for each image (all in one pass)\n",
    "features_x = feature_extractor.predict(x_train)\n",
    "\n",
    "# Save the array of extracted features to a file\n",
    "joblib.dump(features_x, \"model/x_train.dat\")\n",
    "\n",
    "# Save the matching array of expected values to a file\n",
    "joblib.dump(y_train, \"model/y_train.dat\")\n"
   ]
  },
  {
   "cell_type": "code",
   "execution_count": 38,
   "metadata": {
    "colab": {},
    "colab_type": "code",
    "id": "9sXXX9VOBmpv"
   },
   "outputs": [],
   "source": [
    "# Load data set of extracted features\n",
    "x_train = joblib.load(\"model/x_train.dat\")\n",
    "y_train = joblib.load(\"model/y_train.dat\")\n"
   ]
  },
  {
   "cell_type": "code",
   "execution_count": 39,
   "metadata": {
    "colab": {},
    "colab_type": "code",
    "id": "CvvFDEMpKwQt"
   },
   "outputs": [],
   "source": [
    "from keras.models import Sequential\n",
    "from keras.layers import Dense, Dropout, Flatten"
   ]
  },
  {
   "cell_type": "code",
   "execution_count": 40,
   "metadata": {
    "colab": {},
    "colab_type": "code",
    "id": "Nn81_QfVBvuj"
   },
   "outputs": [],
   "source": [
    "# Create a model and add layers\n",
    "model = Sequential()\n",
    "\n",
    "# Add layers to our model\n",
    "model.add(Flatten(input_shape=x_train.shape[1:]))\n",
    "model.add(Dense(128, activation='relu'))\n",
    "model.add(Dropout(0.5))\n",
    "model.add(Dense(1, activation='sigmoid'))\n",
    "\n",
    "# Compile the model\n",
    "model.compile(\n",
    "    loss='binary_crossentropy',\n",
    "    optimizer='adam',\n",
    "    metrics=['accuracy']\n",
    ")\n"
   ]
  },
  {
   "cell_type": "code",
   "execution_count": 41,
   "metadata": {},
   "outputs": [
    {
     "name": "stdout",
     "output_type": "stream",
     "text": [
      "215\n",
      "215\n"
     ]
    }
   ],
   "source": [
    "print(len(x_train))\n",
    "print(len(y_train))"
   ]
  },
  {
   "cell_type": "code",
   "execution_count": 42,
   "metadata": {
    "colab": {
     "base_uri": "https://localhost:8080/",
     "height": 399
    },
    "colab_type": "code",
    "id": "-Rxngy6-Bynu",
    "outputId": "5f74502d-8704-4b36-b882-5a998c7ad395"
   },
   "outputs": [
    {
     "name": "stdout",
     "output_type": "stream",
     "text": [
      "Train on 204 samples, validate on 11 samples\n",
      "Epoch 1/13\n",
      " - 2s - loss: 4.3979 - acc: 0.4853 - val_loss: 0.2732 - val_acc: 0.9091\n",
      "Epoch 2/13\n",
      " - 0s - loss: 2.3515 - acc: 0.5637 - val_loss: 1.0388 - val_acc: 0.4545\n",
      "Epoch 3/13\n",
      " - 0s - loss: 1.1563 - acc: 0.6176 - val_loss: 0.5293 - val_acc: 0.8182\n",
      "Epoch 4/13\n",
      " - 0s - loss: 0.5706 - acc: 0.7059 - val_loss: 0.3263 - val_acc: 0.9091\n",
      "Epoch 5/13\n",
      " - 0s - loss: 0.5676 - acc: 0.7206 - val_loss: 0.2560 - val_acc: 0.9091\n",
      "Epoch 6/13\n",
      " - 0s - loss: 0.4977 - acc: 0.7353 - val_loss: 0.3896 - val_acc: 0.8182\n",
      "Epoch 7/13\n",
      " - 0s - loss: 0.4631 - acc: 0.7941 - val_loss: 0.2760 - val_acc: 1.0000\n",
      "Epoch 8/13\n",
      " - 0s - loss: 0.3607 - acc: 0.8284 - val_loss: 0.3119 - val_acc: 1.0000\n",
      "Epoch 9/13\n",
      " - 0s - loss: 0.3571 - acc: 0.8284 - val_loss: 0.3699 - val_acc: 0.8182\n",
      "Epoch 10/13\n",
      " - 0s - loss: 0.3155 - acc: 0.8578 - val_loss: 0.2319 - val_acc: 1.0000\n",
      "Epoch 11/13\n",
      " - 0s - loss: 0.3484 - acc: 0.8578 - val_loss: 0.4954 - val_acc: 0.8182\n",
      "Epoch 12/13\n",
      " - 0s - loss: 0.2873 - acc: 0.8873 - val_loss: 0.4342 - val_acc: 0.8182\n",
      "Epoch 13/13\n",
      " - 0s - loss: 0.2451 - acc: 0.8873 - val_loss: 0.2613 - val_acc: 1.0000\n"
     ]
    }
   ],
   "source": [
    "# Train the model\n",
    "model.fit(\n",
    "    x_train,\n",
    "    y_train,\n",
    "    validation_split=0.05,\n",
    "    epochs=13,\n",
    "    shuffle=True,\n",
    "    verbose=2\n",
    ")\n",
    "\n",
    "# Save the trained model to a file so we can use it to make predictions later\n",
    "model.save(\"model/Defect_healthy_classifier_model.h5\")"
   ]
  },
  {
   "cell_type": "code",
   "execution_count": 43,
   "metadata": {
    "colab": {},
    "colab_type": "code",
    "id": "UZLgCYOnB1k-"
   },
   "outputs": [],
   "source": [
    "from keras.models import load_model\n",
    "from sklearn.metrics import confusion_matrix, classification_report"
   ]
  },
  {
   "cell_type": "code",
   "execution_count": 44,
   "metadata": {},
   "outputs": [],
   "source": [
    "#Add a label for this image. If it was a Defect, label it 0. If it was a Healthy, label it 1.\n",
    "y_test = []\n",
    "path = \"test_dataset/\"\n",
    "classes = [\"Defect\",\"Healthy\"]\n",
    "for i in classes:\n",
    "    if i == \"Defect\":\n",
    "        new_path = os.path.join(path,i)\n",
    "        y = os.listdir(new_path)\n",
    "        for i in y:\n",
    "            y_test.append(0)\n",
    "    else:\n",
    "        new_path = os.path.join(path,i)\n",
    "        y = os.listdir(new_path)\n",
    "        for i in y:\n",
    "            y_test.append(1)\n"
   ]
  },
  {
   "cell_type": "code",
   "execution_count": 45,
   "metadata": {
    "colab": {},
    "colab_type": "code",
    "id": "yUqfBf9ECFBU"
   },
   "outputs": [
    {
     "name": "stdout",
     "output_type": "stream",
     "text": [
      "(28, 73, 73, 3)\n"
     ]
    }
   ],
   "source": [
    "# Empty lists to hold the images and labels for each each image\n",
    "x_test = []\n",
    "\n",
    "# Load the test data set by looping over every image file\n",
    "for image_file in Path(\"test_dataset\").glob(\"**/*.jpg\"):\n",
    "\n",
    "    # Load the current image file\n",
    "    image_data = image.load_img(image_file, target_size=(73, 73))\n",
    "\n",
    "    # Convert the loaded image file to a numpy array\n",
    "    image_array = image.img_to_array(image_data)\n",
    "\n",
    "    # Add the current image to our list of test images\n",
    "    x_test.append(image_array)\n",
    "    \n",
    "# Convert the list of test images to a numpy array\n",
    "x_test = np.array(x_test)\n",
    "\n",
    "# Normalize test data set to 0-to-1 range\n",
    "x_test = xception.preprocess_input(x_test)\n",
    "\n",
    "print(x_test.shape)"
   ]
  },
  {
   "cell_type": "code",
   "execution_count": 46,
   "metadata": {
    "colab": {
     "base_uri": "https://localhost:8080/",
     "height": 254
    },
    "colab_type": "code",
    "id": "mPYbXZBMCSGn",
    "outputId": "8e9bde39-3d70-43c2-b3e6-4113aa1cf57e"
   },
   "outputs": [
    {
     "name": "stdout",
     "output_type": "stream",
     "text": [
      "(28, 3, 3, 2048)\n"
     ]
    }
   ],
   "source": [
    "# Load our trained classifier model\n",
    "model = load_model(\"model/Defect_healthy_classifier_model.h5\")\n",
    "# Extract features for each image (all in one pass)\n",
    "features_x = feature_extractor.predict(x_test)\n",
    "\n",
    "print(features_x.shape)\n"
   ]
  },
  {
   "cell_type": "code",
   "execution_count": 47,
   "metadata": {
    "scrolled": true
   },
   "outputs": [
    {
     "name": "stdout",
     "output_type": "stream",
     "text": [
      "True negative 5\n",
      "False positive 9\n",
      "False negative 1\n",
      "True Positive 13\n",
      "Accuracy score percent is : 0.6428571428571429\n",
      "f1_score percent is : 0.7222222222222223\n",
      "precision_score percent is : 0.5909090909090909\n",
      "recall_score percent is : 0.9285714285714286\n"
     ]
    }
   ],
   "source": [
    "from sklearn.metrics import accuracy_score\n",
    "from sklearn.metrics import f1_score\n",
    "from sklearn.metrics import precision_score\n",
    "from sklearn.metrics import recall_score\n",
    "\n",
    "\n",
    "# Given the extracted features, make a final prediction using our own model\n",
    "predictions = model.predict(features_x)\n",
    "#print(predictions)\n",
    "\n",
    "# If the model is more than 50% sure the object is a Defect, call it a Defect.\n",
    "# Otherwise, call it \"Healthy\".\n",
    "predictions = predictions > 0.5\n",
    "\n",
    "# Calculate how many mis-classifications the model makes\n",
    "tn, fp, fn, tp = confusion_matrix(y_test, predictions,labels=[0,1]).ravel()\n",
    "print(\"True negative\",tn)\n",
    "print(\"False positive\",fp)\n",
    "print(\"False negative\",fn)\n",
    "print(\"True Positive\",tp)\n",
    "\n",
    "accuracy_score = accuracy_score(y_test, predictions)\n",
    "print(\"Accuracy score percent is :\",accuracy_score)\n",
    "\n",
    "f1_score = f1_score(y_test, predictions)\n",
    "print(\"f1_score percent is :\",f1_score)\n",
    "\n",
    "precision_score = precision_score(y_test, predictions)\n",
    "print(\"precision_score percent is :\",precision_score)\n",
    "\n",
    "recall_score = recall_score(y_test, predictions)\n",
    "print(\"recall_score percent is :\",recall_score)\n",
    "\n",
    " "
   ]
  },
  {
   "cell_type": "code",
   "execution_count": null,
   "metadata": {},
   "outputs": [],
   "source": []
  }
 ],
 "metadata": {
  "accelerator": "GPU",
  "colab": {
   "include_colab_link": true,
   "name": "Untitled1.ipynb",
   "provenance": [],
   "version": "0.3.2"
  },
  "kernelspec": {
   "display_name": "Python 3",
   "language": "python",
   "name": "python3"
  },
  "language_info": {
   "codemirror_mode": {
    "name": "ipython",
    "version": 3
   },
   "file_extension": ".py",
   "mimetype": "text/x-python",
   "name": "python",
   "nbconvert_exporter": "python",
   "pygments_lexer": "ipython3",
   "version": "3.5.2"
  }
 },
 "nbformat": 4,
 "nbformat_minor": 1
}
